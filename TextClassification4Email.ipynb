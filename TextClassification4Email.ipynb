{
  "nbformat": 4,
  "nbformat_minor": 0,
  "metadata": {
    "colab": {
      "provenance": [],
      "gpuType": "T4",
      "authorship_tag": "ABX9TyNBCB3Khv4f6CVs1wGW7VAp",
      "include_colab_link": true
    },
    "kernelspec": {
      "name": "python3",
      "display_name": "Python 3"
    },
    "language_info": {
      "name": "python"
    },
    "accelerator": "GPU"
  },
  "cells": [
    {
      "cell_type": "markdown",
      "metadata": {
        "id": "view-in-github",
        "colab_type": "text"
      },
      "source": [
        "<a href=\"https://colab.research.google.com/github/KhangTheKangaroo/Text-Classification-Emails-/blob/main/TextClassification4Email.ipynb\" target=\"_parent\"><img src=\"https://colab.research.google.com/assets/colab-badge.svg\" alt=\"Open In Colab\"/></a>"
      ]
    },
    {
      "cell_type": "code",
      "execution_count": 1,
      "metadata": {
        "colab": {
          "base_uri": "https://localhost:8080/"
        },
        "id": "RKuiaZf8qYop",
        "outputId": "c5740d52-92df-496d-a421-47dc1764bab7"
      },
      "outputs": [
        {
          "output_type": "stream",
          "name": "stdout",
          "text": [
            "/usr/local/lib/python3.10/dist-packages/gdown/__main__.py:132: FutureWarning: Option `--id` was deprecated in version 4.3.1 and will be removed in 5.0. You don't need to pass it anymore to use a file ID.\n",
            "  warnings.warn(\n",
            "Downloading...\n",
            "From: https://drive.google.com/uc?id=1N7rk-kfnDFIGMeX0ROVTjKh71gcgx-7R\n",
            "To: /content/2cls_spam_text_cls.csv\n",
            "100% 486k/486k [00:00<00:00, 91.2MB/s]\n"
          ]
        }
      ],
      "source": [
        "! gdown --id 1N7rk-kfnDFIGMeX0ROVTjKh71gcgx-7R # Download the dataset"
      ]
    },
    {
      "cell_type": "code",
      "source": [
        "# Import necessary libraries\n",
        "\n",
        "import nltk\n",
        "nltk.download('stopwords') # Remove stopwords\n",
        "nltk.download('punkt')\n",
        "import pandas as pd\n",
        "import numpy as np\n",
        "import matplotlib as plt\n",
        "import string\n",
        "\n",
        "from sklearn.model_selection import train_test_split # Train the model\n",
        "from sklearn.naive_bayes import GaussianNB # Turn it into a normal distribution (kinda)\n",
        "from sklearn.metrics import accuracy_score # Measure accuracy\n",
        "from sklearn.preprocessing import LabelEncoder # Split classes into designated labels"
      ],
      "metadata": {
        "colab": {
          "base_uri": "https://localhost:8080/"
        },
        "id": "Efh98MYhqeGl",
        "outputId": "6a2b11db-8300-46c4-be51-1b28892d31aa"
      },
      "execution_count": 5,
      "outputs": [
        {
          "output_type": "stream",
          "name": "stderr",
          "text": [
            "[nltk_data] Downloading package stopwords to /root/nltk_data...\n",
            "[nltk_data]   Package stopwords is already up-to-date!\n",
            "[nltk_data] Downloading package punkt to /root/nltk_data...\n",
            "[nltk_data]   Package punkt is already up-to-date!\n"
          ]
        }
      ]
    },
    {
      "cell_type": "code",
      "source": [
        "dataset_path = '/content/2cls_spam_text_cls.csv'\n",
        "df = pd.read_csv(dataset_path)\n",
        "\n",
        "# Convert messages and categories into a list\n",
        "msgs = df['Message'].values.tolist()\n",
        "labels = df['Category'].values.tolist()"
      ],
      "metadata": {
        "id": "XvNkhMtsrXkr"
      },
      "execution_count": 4,
      "outputs": []
    },
    {
      "cell_type": "code",
      "source": [
        "def lowercase_text(txt):\n",
        "  return txt.lower()\n",
        "\n",
        "def remove_punctuation(txt):\n",
        "  return txt.translate(str.maketrans('', '', string.punctuation))\n",
        "\n",
        "def tokenize(txt):\n",
        "  return nltk.word_tokenize(txt) # Basically split the words into a list of words; great is it, truly.\n",
        "\n",
        "def remove_stopwords(tokens): # You can do (txt) here if you want, (token) is just for easier read\n",
        "  stopwords = nltk.corpus.stopwords.words('english') # Get stopwords (English edition, (I didn't even know this command existed until just a while ago making this))\n",
        "  return [token for token in tokens if token not in stopwords] # Remove stopwords\n",
        "\n",
        "def stemming(tokens):\n",
        "  stemmer = nltk.PorterStemmer() # Get the stemmer\n",
        "  return [stemmer.stem(token) for token in tokens] # Get the root/stem of the words\n",
        "\n",
        "def preprocess_text(txt):\n",
        "  txt = lowercase_text(txt)\n",
        "  txt = remove_punctuation(txt)\n",
        "  tokens = tokenize(txt)\n",
        "  tokens = remove_stopwords(tokens)\n",
        "  tokens = stemming(tokens)\n",
        "\n",
        "  return tokens\n",
        "\n",
        "msgs = [preprocess_text(message) for message in msgs] # Process the text"
      ],
      "metadata": {
        "id": "m6wje3IZr_Ky"
      },
      "execution_count": 8,
      "outputs": []
    },
    {
      "cell_type": "code",
      "source": [
        "# Create a dictionary of UNIQUE words\n",
        "def create_dict(msgs):\n",
        "  dict = []\n",
        "  for tokens in msgs:\n",
        "    for token in tokens:\n",
        "      if token not in dict:\n",
        "        dict.append(token)\n",
        "  return dict\n",
        "\n",
        "dict = create_dict(msgs)"
      ],
      "metadata": {
        "id": "YdNrk-IQuJ__"
      },
      "execution_count": 10,
      "outputs": []
    },
    {
      "cell_type": "code",
      "source": [
        "def create_features(tokens, dict):\n",
        "  features = np.zeros(len(dict))\n",
        "\n",
        "  for token in tokens:\n",
        "    if token in dict:\n",
        "      features[dict.index(token)] += 1\n",
        "\n",
        "  return features\n",
        "\n",
        "X = np.array([create_features(tokens, dict) for tokens in msgs])"
      ],
      "metadata": {
        "id": "awdzP77Ixit4"
      },
      "execution_count": 12,
      "outputs": []
    },
    {
      "cell_type": "code",
      "source": [
        "le = LabelEncoder()\n",
        "y = le.fit_transform(labels)\n",
        "print(f\"Classes: {le.classes_}\")\n",
        "print(f\"Encoded Labels: {y}\")"
      ],
      "metadata": {
        "colab": {
          "base_uri": "https://localhost:8080/"
        },
        "id": "Y-d1HInQ1nog",
        "outputId": "f7857a2b-8202-4432-8768-fd15506ec59a"
      },
      "execution_count": 13,
      "outputs": [
        {
          "output_type": "stream",
          "name": "stdout",
          "text": [
            "Classes: ['ham' 'spam']\n",
            "Encoded Labels: [0 0 1 ... 0 0 0]\n"
          ]
        }
      ]
    },
    {
      "cell_type": "code",
      "source": [
        "# Split the dataset into 3 parts: Training, Validation, Testing (7/2/1)\n",
        "\n",
        "VAL_SIZE = 0.2\n",
        "TEST_SIZE = 0.125\n",
        "SEED = 0\n",
        "\n",
        "X_train, X_val, Y_train, Y_val = train_test_split(X, y, test_size=VAL_SIZE, random_state=SEED, shuffle=True)\n",
        "print(X_train.shape, X_val.shape, Y_train.shape, Y_val.shape)\n",
        "\n",
        "X_train, X_test, y_train, y_test = train_test_split(X_train, Y_train, test_size=TEST_SIZE, random_state=SEED, shuffle=True)\n",
        "print(X_train.shape, X_test.shape, y_train.shape, y_test.shape)"
      ],
      "metadata": {
        "colab": {
          "base_uri": "https://localhost:8080/"
        },
        "id": "UBl-mm651-aq",
        "outputId": "6aa87b41-4b60-4b8f-b651-eb95e7970848"
      },
      "execution_count": 14,
      "outputs": [
        {
          "output_type": "stream",
          "name": "stdout",
          "text": [
            "(4457, 8166) (1115, 8166) (4457,) (1115,)\n",
            "(3899, 8166) (558, 8166) (3899,) (558,)\n"
          ]
        }
      ]
    },
    {
      "cell_type": "code",
      "source": [
        "# Create the model\n",
        "\n",
        "model = GaussianNB()\n",
        "print('Start Training...')\n",
        "model = model.fit(X_train, y_train)\n",
        "print('Training completed.')"
      ],
      "metadata": {
        "colab": {
          "base_uri": "https://localhost:8080/"
        },
        "id": "JBVUxxGv2sgT",
        "outputId": "34001341-d015-40cb-eae5-331913a49f85"
      },
      "execution_count": 15,
      "outputs": [
        {
          "output_type": "stream",
          "name": "stdout",
          "text": [
            "Start Training...\n",
            "Training completed.\n"
          ]
        }
      ]
    },
    {
      "cell_type": "code",
      "source": [
        "# Evaluate the model by validation's and testing's accuracy (Should be similar)\n",
        "\n",
        "y_val_pred = model.predict(X_val)\n",
        "y_test_pred = model.predict(X_test)\n",
        "\n",
        "val_acc = accuracy_score(Y_val, y_val_pred)\n",
        "test_acc = accuracy_score(y_test, y_test_pred)\n",
        "\n",
        "print(f\"Val Accuracy:{val_acc}\")\n",
        "print(f\"Test Accuracy:{test_acc}\")"
      ],
      "metadata": {
        "colab": {
          "base_uri": "https://localhost:8080/"
        },
        "id": "d5yHtdkM27RO",
        "outputId": "faf20ae4-09c2-42f6-9278-d466ca8b25f2"
      },
      "execution_count": 16,
      "outputs": [
        {
          "output_type": "stream",
          "name": "stdout",
          "text": [
            "Val Accuracy:0.8816143497757848\n",
            "Test Accuracy:0.8602150537634409\n"
          ]
        }
      ]
    },
    {
      "cell_type": "code",
      "source": [
        "def predict(text, model, dict):\n",
        "  processed_text = preprocess_text(text) # Process the texts\n",
        "  features = create_features(text, dict) # Create features from the texts\n",
        "  features = np.array(features).reshape(1, -1) # Make it into a 1D array\n",
        "  prediction = model.predict(features) # Predict the classes\n",
        "  prediction_cls = le.inverse_transform(prediction)[0] # Turn the 0's and 1's back into ham and spam\n",
        "\n",
        "  return prediction_cls\n",
        "\n",
        "test_input1 = 'Wanna hangout?'\n",
        "test_input2 = 'FREE MONEY! CLAIM NOW!!'\n",
        "\n",
        "prediction_cls = predict(test_input1, model, dict)\n",
        "print(f\"Prediction: {prediction_cls}\")\n",
        "\n",
        "prediction_cls = predict(test_input2, model, dict)\n",
        "print(f\"Prediction: {prediction_cls}\")"
      ],
      "metadata": {
        "colab": {
          "base_uri": "https://localhost:8080/"
        },
        "id": "IkwqxmBp3Zrr",
        "outputId": "134d6927-e3b8-491f-ef5b-282cd51a0df3"
      },
      "execution_count": 21,
      "outputs": [
        {
          "output_type": "stream",
          "name": "stdout",
          "text": [
            "Prediction: ham\n",
            "Prediction: spam\n"
          ]
        }
      ]
    }
  ]
}